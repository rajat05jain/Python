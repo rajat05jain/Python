{
  "nbformat": 4,
  "nbformat_minor": 0,
  "metadata": {
    "colab": {
      "name": "Untitled0.ipynb",
      "version": "0.3.2",
      "provenance": [],
      "include_colab_link": true
    },
    "kernelspec": {
      "name": "python3",
      "display_name": "Python 3"
    }
  },
  "cells": [
    {
      "cell_type": "markdown",
      "metadata": {
        "id": "view-in-github",
        "colab_type": "text"
      },
      "source": [
        "<a href=\"https://colab.research.google.com/github/rajat05jain/Python/blob/master/firstPythonTask.ipynb\" target=\"_parent\"><img src=\"https://colab.research.google.com/assets/colab-badge.svg\" alt=\"Open In Colab\"/></a>"
      ]
    },
    {
      "metadata": {
        "id": "EJr22nwoV9rL",
        "colab_type": "code",
        "outputId": "43c45ec9-815f-490b-a0c3-ab3995d29355",
        "colab": {
          "base_uri": "https://localhost:8080/",
          "height": 34
        }
      },
      "cell_type": "code",
      "source": [
        "print(\"hello\")"
      ],
      "execution_count": 0,
      "outputs": [
        {
          "output_type": "stream",
          "text": [
            "hello\n"
          ],
          "name": "stdout"
        }
      ]
    },
    {
      "metadata": {
        "id": "UJ-TlMhbWAgO",
        "colab_type": "code",
        "outputId": "efc58222-2f9e-4742-a4b8-151e293912fd",
        "colab": {
          "base_uri": "https://localhost:8080/",
          "height": 34
        }
      },
      "cell_type": "code",
      "source": [
        "from google.colab import auth\n",
        "auth.authenticate_user()\n",
        "print('Authenticated')"
      ],
      "execution_count": 1,
      "outputs": [
        {
          "output_type": "stream",
          "text": [
            "Authenticated\n"
          ],
          "name": "stdout"
        }
      ]
    },
    {
      "metadata": {
        "id": "QG43vrwLYwih",
        "colab_type": "code",
        "colab": {}
      },
      "cell_type": "code",
      "source": [
        "project_id = 'exploring-data-analysis'  "
      ],
      "execution_count": 0,
      "outputs": []
    },
    {
      "metadata": {
        "id": "43UpTZTZZT1N",
        "colab_type": "code",
        "colab": {}
      },
      "cell_type": "code",
      "source": [
        "from google.cloud import bigquery\n",
        "client = bigquery.Client(project=project_id) "
      ],
      "execution_count": 0,
      "outputs": []
    },
    {
      "metadata": {
        "id": "bUumjzFlaOAq",
        "colab_type": "code",
        "colab": {}
      },
      "cell_type": "code",
      "source": [
        "myQUERY = \"\"\"\n",
        "        SELECT license, COUNT(*) AS count\n",
        "        FROM `bigquery-public-data.github_repos.licenses`\n",
        "        GROUP BY license\n",
        "        ORDER BY COUNT(*) DESC\n",
        "        \"\"\""
      ],
      "execution_count": 0,
      "outputs": []
    },
    {
      "metadata": {
        "id": "VOfQaZWoaZpw",
        "colab_type": "code",
        "outputId": "a5408c49-51af-4b07-9171-3b334ab651db",
        "colab": {
          "base_uri": "https://localhost:8080/",
          "height": 34
        }
      },
      "cell_type": "code",
      "source": [
        "dry_run_config = bigquery.job.QueryJobConfig()\n",
        "dry_run_config.dry_run = True\n",
        "dry_run_job = client.query(myQUERY, job_config=dry_run_config)\n",
        "print(\"This query will process \",dry_run_job.total_bytes_processed/ (1024*1024),\"MB when run. \")"
      ],
      "execution_count": 17,
      "outputs": [
        {
          "output_type": "stream",
          "text": [
            "This query will process  24.805376052856445 MB when run. \n"
          ],
          "name": "stdout"
        }
      ]
    },
    {
      "metadata": {
        "id": "uSu-B6dtbhwL",
        "colab_type": "code",
        "colab": {
          "base_uri": "https://localhost:8080/",
          "height": 3301
        },
        "outputId": "a2e07566-558d-40e3-db6d-a814947e2df2"
      },
      "cell_type": "code",
      "source": [
        "help(bigquery.job.QueryJobConfig)\n"
      ],
      "execution_count": 14,
      "outputs": [
        {
          "output_type": "stream",
          "text": [
            "Help on class QueryJobConfig in module google.cloud.bigquery.job:\n",
            "\n",
            "class QueryJobConfig(_JobConfig)\n",
            " |  Configuration options for query jobs.\n",
            " |  \n",
            " |  All properties in this class are optional. Values which are :data:`None` ->\n",
            " |  server defaults. Set properties on the constructed configuration by using\n",
            " |  the property name as the name of a keyword argument.\n",
            " |  \n",
            " |  Method resolution order:\n",
            " |      QueryJobConfig\n",
            " |      _JobConfig\n",
            " |      builtins.object\n",
            " |  \n",
            " |  Methods defined here:\n",
            " |  \n",
            " |  __init__(self, **kwargs)\n",
            " |      Initialize self.  See help(type(self)) for accurate signature.\n",
            " |  \n",
            " |  to_api_repr(self)\n",
            " |      Build an API representation of the query job config.\n",
            " |      \n",
            " |      Returns:\n",
            " |          dict: A dictionary in the format used by the BigQuery API.\n",
            " |  \n",
            " |  ----------------------------------------------------------------------\n",
            " |  Data descriptors defined here:\n",
            " |  \n",
            " |  allow_large_results\n",
            " |      bool: Allow large query results tables (legacy SQL, only)\n",
            " |      \n",
            " |      See\n",
            " |      https://g.co/cloud/bigquery/docs/reference/rest/v2/jobs#configuration.query.allowLargeResults\n",
            " |  \n",
            " |  clustering_fields\n",
            " |      Union[List[str], None]: Fields defining clustering for the table\n",
            " |      \n",
            " |      (Defaults to :data:`None`).\n",
            " |      \n",
            " |      Clustering fields are immutable after table creation.\n",
            " |      \n",
            " |      .. note::\n",
            " |      \n",
            " |         As of 2018-06-29, clustering fields cannot be set on a table\n",
            " |         which does not also have time partioning defined.\n",
            " |  \n",
            " |  create_disposition\n",
            " |      google.cloud.bigquery.job.CreateDisposition: Specifies behavior\n",
            " |      for creating tables.\n",
            " |      \n",
            " |      See\n",
            " |      https://g.co/cloud/bigquery/docs/reference/rest/v2/jobs#configuration.query.createDisposition\n",
            " |  \n",
            " |  default_dataset\n",
            " |      google.cloud.bigquery.dataset.DatasetReference: the default dataset\n",
            " |      to use for unqualified table names in the query or :data:`None` if not\n",
            " |      set.\n",
            " |      \n",
            " |      See\n",
            " |      https://g.co/cloud/bigquery/docs/reference/v2/jobs#configuration.query.defaultDataset\n",
            " |  \n",
            " |  destination\n",
            " |      google.cloud.bigquery.table.TableReference: table where results are\n",
            " |      written or :data:`None` if not set.\n",
            " |      \n",
            " |      See\n",
            " |      https://g.co/cloud/bigquery/docs/reference/rest/v2/jobs#configuration.query.destinationTable\n",
            " |  \n",
            " |  destination_encryption_configuration\n",
            " |      google.cloud.bigquery.table.EncryptionConfiguration: Custom\n",
            " |      encryption configuration for the destination table.\n",
            " |      \n",
            " |      Custom encryption configuration (e.g., Cloud KMS keys) or :data:`None`\n",
            " |      if using default encryption.\n",
            " |      \n",
            " |      See\n",
            " |      https://cloud.google.com/bigquery/docs/reference/rest/v2/jobs#configuration.query.destinationEncryptionConfiguration\n",
            " |  \n",
            " |  dry_run\n",
            " |      bool: :data:`True` if this query should be a dry run to estimate\n",
            " |      costs.\n",
            " |      \n",
            " |      See\n",
            " |      https://g.co/cloud/bigquery/docs/reference/v2/jobs#configuration.dryRun\n",
            " |  \n",
            " |  flatten_results\n",
            " |      bool: Flatten nested/repeated fields in results. (Legacy SQL only)\n",
            " |      \n",
            " |      See\n",
            " |      https://g.co/cloud/bigquery/docs/reference/rest/v2/jobs#configuration.query.flattenResults\n",
            " |  \n",
            " |  maximum_billing_tier\n",
            " |      int: Deprecated. Changes the billing tier to allow high-compute\n",
            " |      queries.\n",
            " |      \n",
            " |      See\n",
            " |      https://g.co/cloud/bigquery/docs/reference/rest/v2/jobs#configuration.query.maximumBillingTier\n",
            " |  \n",
            " |  maximum_bytes_billed\n",
            " |      int: Maximum bytes to be billed for this job or :data:`None` if not set.\n",
            " |      \n",
            " |      See\n",
            " |      https://g.co/cloud/bigquery/docs/reference/rest/v2/jobs#configuration.query.maximumBytesBilled\n",
            " |  \n",
            " |  priority\n",
            " |      google.cloud.bigquery.job.QueryPriority: Priority of the query.\n",
            " |      \n",
            " |      See\n",
            " |      https://g.co/cloud/bigquery/docs/reference/rest/v2/jobs#configuration.query.priority\n",
            " |  \n",
            " |  query_parameters\n",
            " |      List[Union[google.cloud.bigquery.query.ArrayQueryParameter,         google.cloud.bigquery.query.ScalarQueryParameter,         google.cloud.bigquery.query.StructQueryParameter]]: list of parameters\n",
            " |      for parameterized query (empty by default)\n",
            " |      \n",
            " |      See:\n",
            " |      https://g.co/cloud/bigquery/docs/reference/rest/v2/jobs#configuration.query.queryParameters\n",
            " |  \n",
            " |  schema_update_options\n",
            " |      List[google.cloud.bigquery.job.SchemaUpdateOption]: Specifies\n",
            " |      updates to the destination table schema to allow as a side effect of\n",
            " |      the query job.\n",
            " |  \n",
            " |  table_definitions\n",
            " |      Dict[str, google.cloud.bigquery.external_config.ExternalConfig]:\n",
            " |      Definitions for external tables or :data:`None` if not set.\n",
            " |      \n",
            " |      See\n",
            " |      https://g.co/cloud/bigquery/docs/reference/rest/v2/jobs#configuration.query.tableDefinitions\n",
            " |  \n",
            " |  time_partitioning\n",
            " |      google.cloud.bigquery.table.TimePartitioning: Specifies time-based\n",
            " |      partitioning for the destination table.\n",
            " |  \n",
            " |  udf_resources\n",
            " |      List[google.cloud.bigquery.query.UDFResource]: user\n",
            " |      defined function resources (empty by default)\n",
            " |      \n",
            " |      See:\n",
            " |      https://g.co/cloud/bigquery/docs/reference/rest/v2/jobs#configuration.query.userDefinedFunctionResources\n",
            " |  \n",
            " |  use_legacy_sql\n",
            " |      bool: Use legacy SQL syntax.\n",
            " |      \n",
            " |      See\n",
            " |      https://g.co/cloud/bigquery/docs/reference/v2/jobs#configuration.query.useLegacySql\n",
            " |  \n",
            " |  use_query_cache\n",
            " |      bool: Look for the query result in the cache.\n",
            " |      \n",
            " |      See\n",
            " |      https://cloud.google.com/bigquery/docs/reference/rest/v2/jobs#configuration.query.useQueryCache\n",
            " |  \n",
            " |  write_disposition\n",
            " |      google.cloud.bigquery.job.WriteDisposition: Action that occurs if\n",
            " |      the destination table already exists.\n",
            " |      \n",
            " |      See\n",
            " |      https://cloud.google.com/bigquery/docs/reference/rest/v2/jobs#configuration.query.writeDisposition\n",
            " |  \n",
            " |  ----------------------------------------------------------------------\n",
            " |  Class methods inherited from _JobConfig:\n",
            " |  \n",
            " |  from_api_repr(resource) from builtins.type\n",
            " |      Factory: construct a job configuration given its API representation\n",
            " |      \n",
            " |      :type resource: dict\n",
            " |      :param resource:\n",
            " |          An extract job configuration in the same representation as is\n",
            " |          returned from the API.\n",
            " |      \n",
            " |      :rtype: :class:`google.cloud.bigquery.job._JobConfig`\n",
            " |      :returns: Configuration parsed from ``resource``.\n",
            " |  \n",
            " |  ----------------------------------------------------------------------\n",
            " |  Data descriptors inherited from _JobConfig:\n",
            " |  \n",
            " |  __dict__\n",
            " |      dictionary for instance variables (if defined)\n",
            " |  \n",
            " |  __weakref__\n",
            " |      list of weak references to the object (if defined)\n",
            " |  \n",
            " |  labels\n",
            " |      Dict[str, str]: Labels for the job.\n",
            " |      \n",
            " |      This method always returns a dict. To change a job's labels,\n",
            " |      modify the dict, then call ``Client.update_job``. To delete a\n",
            " |      label, set its value to :data:`None` before updating.\n",
            " |      \n",
            " |      Raises:\n",
            " |          ValueError: If ``value`` type is invalid.\n",
            "\n"
          ],
          "name": "stdout"
        }
      ]
    },
    {
      "metadata": {
        "id": "JIe8LLCra0Jg",
        "colab_type": "code",
        "colab": {
          "base_uri": "https://localhost:8080/",
          "height": 649
        },
        "outputId": "07bb76e8-d98f-48a2-e8b4-a5c2c1ac8336"
      },
      "cell_type": "code",
      "source": [
        "help(client.query)"
      ],
      "execution_count": 15,
      "outputs": [
        {
          "output_type": "stream",
          "text": [
            "Help on method query in module google.cloud.bigquery.client:\n",
            "\n",
            "query(query, job_config=None, job_id=None, job_id_prefix=None, location=None, project=None, retry=<google.api_core.retry.Retry object at 0x7fad5bff34a8>) method of google.cloud.bigquery.client.Client instance\n",
            "    Run a SQL query.\n",
            "    \n",
            "    See\n",
            "    https://cloud.google.com/bigquery/docs/reference/rest/v2/jobs#configuration.query\n",
            "    \n",
            "    Arguments:\n",
            "        query (str):\n",
            "            SQL query to be executed. Defaults to the standard SQL\n",
            "            dialect. Use the ``job_config`` parameter to change dialects.\n",
            "    \n",
            "    Keyword Arguments:\n",
            "        job_config (google.cloud.bigquery.job.QueryJobConfig):\n",
            "            (Optional) Extra configuration options for the job.\n",
            "            To override any options that were previously set in\n",
            "            the ``default_query_job_config`` given to the\n",
            "            ``Client`` constructor, manually set those options to ``None``,\n",
            "            or whatever value is preferred.\n",
            "        job_id (str): (Optional) ID to use for the query job.\n",
            "        job_id_prefix (str):\n",
            "            (Optional) The prefix to use for a randomly generated job ID.\n",
            "            This parameter will be ignored if a ``job_id`` is also given.\n",
            "        location (str):\n",
            "            Location where to run the job. Must match the location of the\n",
            "            any table used in the query as well as the destination table.\n",
            "        project (str):\n",
            "            Project ID of the project of where to run the job. Defaults\n",
            "            to the client's project.\n",
            "        retry (google.api_core.retry.Retry):\n",
            "            (Optional) How to retry the RPC.\n",
            "    \n",
            "    Returns:\n",
            "        google.cloud.bigquery.job.QueryJob: A new query job instance.\n",
            "\n"
          ],
          "name": "stdout"
        }
      ]
    },
    {
      "metadata": {
        "id": "fKRrK2z0aIYD",
        "colab_type": "code",
        "colab": {
          "base_uri": "https://localhost:8080/",
          "height": 34
        },
        "outputId": "07c4f270-a75c-4acd-fff9-b5840208a1f3"
      },
      "cell_type": "code",
      "source": [
        "df=client.query(myQUERY).to_dataframe()"
      ],
      "execution_count": 20,
      "outputs": [
        {
          "output_type": "stream",
          "text": [
            "Full dataset has 15 rows and 2 columns. \n"
          ],
          "name": "stdout"
        }
      ]
    },
    {
      "metadata": {
        "id": "rFvWa6hOm95R",
        "colab_type": "code",
        "colab": {
          "base_uri": "https://localhost:8080/",
          "height": 34
        },
        "outputId": "0135a4d1-5f2f-4751-a8bb-0c8527c22527"
      },
      "cell_type": "code",
      "source": [
        "print('Full dataset has %d rows and %d columns. ' % (df.shape[0], df.shape[1]))"
      ],
      "execution_count": 21,
      "outputs": [
        {
          "output_type": "stream",
          "text": [
            "Full dataset has 15 rows and 2 columns. \n"
          ],
          "name": "stdout"
        }
      ]
    },
    {
      "metadata": {
        "id": "X6dB_KnSnWR7",
        "colab_type": "code",
        "colab": {
          "base_uri": "https://localhost:8080/",
          "height": 297
        },
        "outputId": "2a90f26a-fa72-4ad3-e4d0-97792f23397b"
      },
      "cell_type": "code",
      "source": [
        "df.describe()"
      ],
      "execution_count": 22,
      "outputs": [
        {
          "output_type": "execute_result",
          "data": {
            "text/html": [
              "<div>\n",
              "<style scoped>\n",
              "    .dataframe tbody tr th:only-of-type {\n",
              "        vertical-align: middle;\n",
              "    }\n",
              "\n",
              "    .dataframe tbody tr th {\n",
              "        vertical-align: top;\n",
              "    }\n",
              "\n",
              "    .dataframe thead th {\n",
              "        text-align: right;\n",
              "    }\n",
              "</style>\n",
              "<table border=\"1\" class=\"dataframe\">\n",
              "  <thead>\n",
              "    <tr style=\"text-align: right;\">\n",
              "      <th></th>\n",
              "      <th>count</th>\n",
              "    </tr>\n",
              "  </thead>\n",
              "  <tbody>\n",
              "    <tr>\n",
              "      <th>count</th>\n",
              "      <td>1.500000e+01</td>\n",
              "    </tr>\n",
              "    <tr>\n",
              "      <th>mean</th>\n",
              "      <td>2.233593e+05</td>\n",
              "    </tr>\n",
              "    <tr>\n",
              "      <th>std</th>\n",
              "      <td>4.385058e+05</td>\n",
              "    </tr>\n",
              "    <tr>\n",
              "      <th>min</th>\n",
              "      <td>8.696000e+03</td>\n",
              "    </tr>\n",
              "    <tr>\n",
              "      <th>25%</th>\n",
              "      <td>2.369450e+04</td>\n",
              "    </tr>\n",
              "    <tr>\n",
              "      <th>50%</th>\n",
              "      <td>4.148500e+04</td>\n",
              "    </tr>\n",
              "    <tr>\n",
              "      <th>75%</th>\n",
              "      <td>2.484410e+05</td>\n",
              "    </tr>\n",
              "    <tr>\n",
              "      <th>max</th>\n",
              "      <td>1.710122e+06</td>\n",
              "    </tr>\n",
              "  </tbody>\n",
              "</table>\n",
              "</div>"
            ],
            "text/plain": [
              "              count\n",
              "count  1.500000e+01\n",
              "mean   2.233593e+05\n",
              "std    4.385058e+05\n",
              "min    8.696000e+03\n",
              "25%    2.369450e+04\n",
              "50%    4.148500e+04\n",
              "75%    2.484410e+05\n",
              "max    1.710122e+06"
            ]
          },
          "metadata": {
            "tags": []
          },
          "execution_count": 22
        }
      ]
    },
    {
      "metadata": {
        "id": "VC-HK5Ztnayb",
        "colab_type": "code",
        "colab": {
          "base_uri": "https://localhost:8080/",
          "height": 359
        },
        "outputId": "ec6960e2-551e-4580-9963-1890ec35a95d"
      },
      "cell_type": "code",
      "source": [
        "df.head(10)"
      ],
      "execution_count": 24,
      "outputs": [
        {
          "output_type": "execute_result",
          "data": {
            "text/html": [
              "<div>\n",
              "<style scoped>\n",
              "    .dataframe tbody tr th:only-of-type {\n",
              "        vertical-align: middle;\n",
              "    }\n",
              "\n",
              "    .dataframe tbody tr th {\n",
              "        vertical-align: top;\n",
              "    }\n",
              "\n",
              "    .dataframe thead th {\n",
              "        text-align: right;\n",
              "    }\n",
              "</style>\n",
              "<table border=\"1\" class=\"dataframe\">\n",
              "  <thead>\n",
              "    <tr style=\"text-align: right;\">\n",
              "      <th></th>\n",
              "      <th>license</th>\n",
              "      <th>count</th>\n",
              "    </tr>\n",
              "  </thead>\n",
              "  <tbody>\n",
              "    <tr>\n",
              "      <th>0</th>\n",
              "      <td>mit</td>\n",
              "      <td>1710122</td>\n",
              "    </tr>\n",
              "    <tr>\n",
              "      <th>1</th>\n",
              "      <td>apache-2.0</td>\n",
              "      <td>493503</td>\n",
              "    </tr>\n",
              "    <tr>\n",
              "      <th>2</th>\n",
              "      <td>gpl-2.0</td>\n",
              "      <td>345658</td>\n",
              "    </tr>\n",
              "    <tr>\n",
              "      <th>3</th>\n",
              "      <td>gpl-3.0</td>\n",
              "      <td>343615</td>\n",
              "    </tr>\n",
              "    <tr>\n",
              "      <th>4</th>\n",
              "      <td>bsd-3-clause</td>\n",
              "      <td>153267</td>\n",
              "    </tr>\n",
              "    <tr>\n",
              "      <th>5</th>\n",
              "      <td>bsd-2-clause</td>\n",
              "      <td>56028</td>\n",
              "    </tr>\n",
              "    <tr>\n",
              "      <th>6</th>\n",
              "      <td>unlicense</td>\n",
              "      <td>46772</td>\n",
              "    </tr>\n",
              "    <tr>\n",
              "      <th>7</th>\n",
              "      <td>agpl-3.0</td>\n",
              "      <td>41485</td>\n",
              "    </tr>\n",
              "    <tr>\n",
              "      <th>8</th>\n",
              "      <td>lgpl-3.0</td>\n",
              "      <td>40074</td>\n",
              "    </tr>\n",
              "    <tr>\n",
              "      <th>9</th>\n",
              "      <td>cc0-1.0</td>\n",
              "      <td>27040</td>\n",
              "    </tr>\n",
              "  </tbody>\n",
              "</table>\n",
              "</div>"
            ],
            "text/plain": [
              "        license    count\n",
              "0           mit  1710122\n",
              "1    apache-2.0   493503\n",
              "2       gpl-2.0   345658\n",
              "3       gpl-3.0   343615\n",
              "4  bsd-3-clause   153267\n",
              "5  bsd-2-clause    56028\n",
              "6     unlicense    46772\n",
              "7      agpl-3.0    41485\n",
              "8      lgpl-3.0    40074\n",
              "9       cc0-1.0    27040"
            ]
          },
          "metadata": {
            "tags": []
          },
          "execution_count": 24
        }
      ]
    },
    {
      "metadata": {
        "id": "V_9Uk9NzndJd",
        "colab_type": "code",
        "colab": {
          "base_uri": "https://localhost:8080/",
          "height": 514
        },
        "outputId": "1a4b1719-ab5c-4b70-e42f-34a76dab97c9"
      },
      "cell_type": "code",
      "source": [
        "df"
      ],
      "execution_count": 27,
      "outputs": [
        {
          "output_type": "execute_result",
          "data": {
            "text/html": [
              "<div>\n",
              "<style scoped>\n",
              "    .dataframe tbody tr th:only-of-type {\n",
              "        vertical-align: middle;\n",
              "    }\n",
              "\n",
              "    .dataframe tbody tr th {\n",
              "        vertical-align: top;\n",
              "    }\n",
              "\n",
              "    .dataframe thead th {\n",
              "        text-align: right;\n",
              "    }\n",
              "</style>\n",
              "<table border=\"1\" class=\"dataframe\">\n",
              "  <thead>\n",
              "    <tr style=\"text-align: right;\">\n",
              "      <th></th>\n",
              "      <th>license</th>\n",
              "      <th>count</th>\n",
              "    </tr>\n",
              "  </thead>\n",
              "  <tbody>\n",
              "    <tr>\n",
              "      <th>0</th>\n",
              "      <td>mit</td>\n",
              "      <td>1710122</td>\n",
              "    </tr>\n",
              "    <tr>\n",
              "      <th>1</th>\n",
              "      <td>apache-2.0</td>\n",
              "      <td>493503</td>\n",
              "    </tr>\n",
              "    <tr>\n",
              "      <th>2</th>\n",
              "      <td>gpl-2.0</td>\n",
              "      <td>345658</td>\n",
              "    </tr>\n",
              "    <tr>\n",
              "      <th>3</th>\n",
              "      <td>gpl-3.0</td>\n",
              "      <td>343615</td>\n",
              "    </tr>\n",
              "    <tr>\n",
              "      <th>4</th>\n",
              "      <td>bsd-3-clause</td>\n",
              "      <td>153267</td>\n",
              "    </tr>\n",
              "    <tr>\n",
              "      <th>5</th>\n",
              "      <td>bsd-2-clause</td>\n",
              "      <td>56028</td>\n",
              "    </tr>\n",
              "    <tr>\n",
              "      <th>6</th>\n",
              "      <td>unlicense</td>\n",
              "      <td>46772</td>\n",
              "    </tr>\n",
              "    <tr>\n",
              "      <th>7</th>\n",
              "      <td>agpl-3.0</td>\n",
              "      <td>41485</td>\n",
              "    </tr>\n",
              "    <tr>\n",
              "      <th>8</th>\n",
              "      <td>lgpl-3.0</td>\n",
              "      <td>40074</td>\n",
              "    </tr>\n",
              "    <tr>\n",
              "      <th>9</th>\n",
              "      <td>cc0-1.0</td>\n",
              "      <td>27040</td>\n",
              "    </tr>\n",
              "    <tr>\n",
              "      <th>10</th>\n",
              "      <td>epl-1.0</td>\n",
              "      <td>24412</td>\n",
              "    </tr>\n",
              "    <tr>\n",
              "      <th>11</th>\n",
              "      <td>lgpl-2.1</td>\n",
              "      <td>22977</td>\n",
              "    </tr>\n",
              "    <tr>\n",
              "      <th>12</th>\n",
              "      <td>mpl-2.0</td>\n",
              "      <td>18930</td>\n",
              "    </tr>\n",
              "    <tr>\n",
              "      <th>13</th>\n",
              "      <td>isc</td>\n",
              "      <td>17811</td>\n",
              "    </tr>\n",
              "    <tr>\n",
              "      <th>14</th>\n",
              "      <td>artistic-2.0</td>\n",
              "      <td>8696</td>\n",
              "    </tr>\n",
              "  </tbody>\n",
              "</table>\n",
              "</div>"
            ],
            "text/plain": [
              "         license    count\n",
              "0            mit  1710122\n",
              "1     apache-2.0   493503\n",
              "2        gpl-2.0   345658\n",
              "3        gpl-3.0   343615\n",
              "4   bsd-3-clause   153267\n",
              "5   bsd-2-clause    56028\n",
              "6      unlicense    46772\n",
              "7       agpl-3.0    41485\n",
              "8       lgpl-3.0    40074\n",
              "9        cc0-1.0    27040\n",
              "10       epl-1.0    24412\n",
              "11      lgpl-2.1    22977\n",
              "12       mpl-2.0    18930\n",
              "13           isc    17811\n",
              "14  artistic-2.0     8696"
            ]
          },
          "metadata": {
            "tags": []
          },
          "execution_count": 27
        }
      ]
    },
    {
      "metadata": {
        "id": "O_UIxp30nwvV",
        "colab_type": "code",
        "colab": {}
      },
      "cell_type": "code",
      "source": [
        ""
      ],
      "execution_count": 0,
      "outputs": []
    }
  ]
}